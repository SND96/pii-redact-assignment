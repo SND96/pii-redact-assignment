{
 "cells": [
  {
   "cell_type": "code",
   "execution_count": 17,
   "metadata": {},
   "outputs": [],
   "source": [
    "import openai\n",
    "import os\n",
    "from typing import List, Dict, Union\n",
    "import json\n",
    "from datasets import load_dataset\n",
    "from tqdm import tqdm\n",
    "from dotenv import load_dotenv\n",
    "import json"
   ]
  },
  {
   "cell_type": "code",
   "execution_count": 5,
   "metadata": {},
   "outputs": [
    {
     "name": "stderr",
     "output_type": "stream",
     "text": [
      "Generating train split: 100%|██████████| 177677/177677 [00:00<00:00, 233646.56 examples/s]\n",
      "Generating validation split: 100%|██████████| 47728/47728 [00:00<00:00, 284486.08 examples/s]\n"
     ]
    }
   ],
   "source": [
    "ds = load_dataset(\"ai4privacy/pii-masking-300k\", split=\"train[:100]\")\n"
   ]
  },
  {
   "cell_type": "code",
   "execution_count": 6,
   "metadata": {},
   "outputs": [
    {
     "data": {
      "text/plain": [
       "Dataset({\n",
       "    features: ['source_text', 'target_text', 'privacy_mask', 'span_labels', 'mbert_text_tokens', 'mbert_bio_labels', 'id', 'language', 'set'],\n",
       "    num_rows: 100\n",
       "})"
      ]
     },
     "execution_count": 6,
     "metadata": {},
     "output_type": "execute_result"
    }
   ],
   "source": [
    "ds \n"
   ]
  },
  {
   "cell_type": "code",
   "execution_count": 15,
   "metadata": {},
   "outputs": [
    {
     "data": {
      "text/plain": [
       "'Subject: Group Messaging for Admissions Process\\n\\nGood morning, everyone,\\n\\nI hope this message finds you well. As we continue our admissions processes, I would like to update you on the latest developments and key information. Please find below the timeline for our upcoming meetings:\\n\\n- wynqvrh053 - Meeting at 10:20am\\n- luka.burg - Meeting at 21\\n- qahil.wittauer - Meeting at quarter past 13\\n- gholamhossein.ruschke - Meeting at 9:47 PM\\n- pdmjrsyoz1460 '"
      ]
     },
     "execution_count": 15,
     "metadata": {},
     "output_type": "execute_result"
    }
   ],
   "source": [
    "ds['source_text'][0]\n"
   ]
  },
  {
   "cell_type": "code",
   "execution_count": 16,
   "metadata": {},
   "outputs": [
    {
     "data": {
      "text/plain": [
       "'Subject: Group Messaging for Admissions Process\\n\\nGood morning, everyone,\\n\\nI hope this message finds you well. As we continue our admissions processes, I would like to update you on the latest developments and key information. Please find below the timeline for our upcoming meetings:\\n\\n- [USERNAME] - Meeting at [TIME]\\n- [USERNAME] - Meeting at [TIME]\\n- [USERNAME] - Meeting at [TIME]\\n- [USERNAME] - Meeting at [TIME]\\n- [USERNAME] '"
      ]
     },
     "execution_count": 16,
     "metadata": {},
     "output_type": "execute_result"
    }
   ],
   "source": [
    "ds['target_text'][0]\n"
   ]
  },
  {
   "cell_type": "code",
   "execution_count": 26,
   "metadata": {},
   "outputs": [],
   "source": [
    "with open('pii_redaction_results.json', 'r', encoding='utf-8') as f:\n",
    "    redaction_results = json.load(f)\n"
   ]
  },
  {
   "cell_type": "code",
   "execution_count": 28,
   "metadata": {},
   "outputs": [
    {
     "name": "stdout",
     "output_type": "stream",
     "text": [
      "[{'type': 'USERNAME', 'value': 'wynqvrh053', 'start': 287, 'end': 297}, {'type': 'USERNAME', 'value': 'luka.burg', 'start': 321, 'end': 330}, {'type': 'USERNAME', 'value': 'qahil.wittauer', 'start': 349, 'end': 363}, {'type': 'USERNAME', 'value': 'gholamhossein.ruschke', 'start': 395, 'end': 416}, {'type': 'USERNAME', 'value': 'pdmjrsyoz1460', 'start': 440, 'end': 453}]\n",
      "[{'value': 'wynqvrh053', 'start': 287, 'end': 297, 'label': 'USERNAME'}, {'value': '10:20am', 'start': 311, 'end': 318, 'label': 'TIME'}, {'value': 'luka.burg', 'start': 321, 'end': 330, 'label': 'USERNAME'}, {'value': '21', 'start': 344, 'end': 346, 'label': 'TIME'}, {'value': 'qahil.wittauer', 'start': 349, 'end': 363, 'label': 'USERNAME'}, {'value': 'quarter past 13', 'start': 377, 'end': 392, 'label': 'TIME'}, {'value': 'gholamhossein.ruschke', 'start': 395, 'end': 416, 'label': 'USERNAME'}, {'value': '9:47 PM', 'start': 430, 'end': 437, 'label': 'TIME'}, {'value': 'pdmjrsyoz1460', 'start': 440, 'end': 453, 'label': 'USERNAME'}]\n"
     ]
    }
   ],
   "source": [
    "source = redaction_results[0]['original_source_text']\n",
    "target = redaction_results[0]['original_target_text']\n",
    "redacted = redaction_results[0]['redacted_text']\n",
    "\n",
    "# for mask in redaction_results[0]['pii_entities']:\n",
    "#     print(mask)\n",
    "#     print(source[mask['start']:mask['end']])\n",
    "#     print(target[mask['start']:mask['end']])\n",
    "#     print(redacted[mask['start']:mask['end']])\n",
    "#     print(\"--------------------------------\")\n",
    "print(redaction_results[0]['pii_entities'])\n",
    "print(redaction_results[0]['original_privacy_mask'])"
   ]
  },
  {
   "cell_type": "code",
   "execution_count": null,
   "metadata": {},
   "outputs": [],
   "source": []
  }
 ],
 "metadata": {
  "kernelspec": {
   "display_name": "pii-redact-env",
   "language": "python",
   "name": "python3"
  },
  "language_info": {
   "codemirror_mode": {
    "name": "ipython",
    "version": 3
   },
   "file_extension": ".py",
   "mimetype": "text/x-python",
   "name": "python",
   "nbconvert_exporter": "python",
   "pygments_lexer": "ipython3",
   "version": "3.11.11"
  }
 },
 "nbformat": 4,
 "nbformat_minor": 2
}

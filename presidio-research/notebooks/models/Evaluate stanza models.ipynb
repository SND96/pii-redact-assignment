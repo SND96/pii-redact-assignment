{
 "cells": [
  {
   "cell_type": "markdown",
   "id": "2c0696fc",
   "metadata": {},
   "source": [
    "Evaluate Stanza models for person names, orgs and locations using the Presidio Evaluator framework"
   ]
  },
  {
   "cell_type": "code",
   "execution_count": null,
   "id": "15ba6110",
   "metadata": {},
   "outputs": [],
   "source": [
    "from pathlib import Path\n",
    "from copy import deepcopy\n",
    "from pprint import pprint\n",
    "from collections import Counter\n",
    "\n",
    "from presidio_evaluator import InputSample\n",
    "from presidio_evaluator.evaluation import Evaluator, ModelError\n",
    "from presidio_evaluator.models import StanzaModel\n",
    "from presidio_evaluator.experiment_tracking import get_experiment_tracker\n",
    "\n",
    "import pandas as pd\n",
    "import spacy\n",
    "\n",
    "pd.set_option(\"display.max_columns\", None)\n",
    "pd.set_option(\"display.max_rows\", None)\n",
    "pd.set_option(\"display.max_colwidth\", None)\n",
    "\n",
    "%reload_ext autoreload\n",
    "%autoreload 2"
   ]
  },
  {
   "cell_type": "markdown",
   "id": "d57f0008",
   "metadata": {},
   "source": [
    "Select data for evaluation:"
   ]
  },
  {
   "cell_type": "code",
   "execution_count": null,
   "id": "ea4440e0",
   "metadata": {},
   "outputs": [],
   "source": [
    "dataset_name = \"synth_dataset_v2.json\"\n",
    "dataset = InputSample.read_dataset_json(\n",
    "    Path(Path.cwd().parent.parent, \"data\", dataset_name)\n",
    ")\n",
    "print(len(dataset))"
   ]
  },
  {
   "cell_type": "code",
   "execution_count": null,
   "id": "0fa78fe9",
   "metadata": {},
   "outputs": [],
   "source": [
    "entity_counter = Counter()\n",
    "for sample in dataset:\n",
    "    for tag in sample.tags:\n",
    "        entity_counter[tag] += 1"
   ]
  },
  {
   "cell_type": "code",
   "execution_count": null,
   "id": "91a91b4f",
   "metadata": {},
   "outputs": [],
   "source": [
    "print(\"Count per entity:\")\n",
    "pprint(entity_counter.most_common())\n",
    "\n",
    "print(\"\\nExample sentence:\")\n",
    "print(dataset[1])\n",
    "\n",
    "print(\"\\nMin and max number of tokens in dataset:\")\n",
    "print(\n",
    "    f\"Min: {min([len(sample.tokens) for sample in dataset])}, \"\n",
    "    f\"Max: {max([len(sample.tokens) for sample in dataset])}\"\n",
    ")\n",
    "\n",
    "print(\"\\nMin and max sentence length in dataset:\")\n",
    "print(\n",
    "    f\"Min: {min([len(sample.full_text) for sample in dataset])}, \"\n",
    "    f\"Max: {max([len(sample.full_text) for sample in dataset])}\"\n",
    ")"
   ]
  },
  {
   "cell_type": "markdown",
   "id": "d2065a27",
   "metadata": {},
   "source": [
    "Select models for evaluation:"
   ]
  },
  {
   "cell_type": "code",
   "execution_count": null,
   "id": "f323b611",
   "metadata": {},
   "outputs": [],
   "source": [
    "models = [\"en\"]"
   ]
  },
  {
   "cell_type": "markdown",
   "id": "ffd65bf9",
   "metadata": {},
   "source": [
    "Run evaluation on all models:"
   ]
  },
  {
   "cell_type": "code",
   "execution_count": null,
   "id": "bdeafa78",
   "metadata": {},
   "outputs": [],
   "source": [
    "for model_name in models:\n",
    "    experiment = get_experiment_tracker()\n",
    "    print(\"-----------------------------------\")\n",
    "    print(f\"Evaluating model {model_name}\")\n",
    "\n",
    "    model = StanzaModel(\n",
    "        model_name=model_name, entities_to_keep=[\"PERSON\", \"GPE\", \"ORG\", \"NORP\"]\n",
    "    )\n",
    "    evaluator = Evaluator(model=model)\n",
    "    evaluation_results = evaluator.evaluate_all(deepcopy(dataset))\n",
    "    results = evaluator.calculate_score(evaluation_results)\n",
    "\n",
    "    # update params tracking\n",
    "    params = {\"dataset_name\": dataset_name, \"model_name\": model_name}\n",
    "    params.update(model.to_log())\n",
    "    experiment.log_parameters(params)\n",
    "    experiment.log_dataset_hash(dataset)\n",
    "    experiment.log_metrics(results.to_log())\n",
    "    entities, confmatrix = results.to_confusion_matrix()\n",
    "    experiment.log_confusion_matrix(matrix=confmatrix, labels=entities)\n",
    "\n",
    "    print(\"Confusion matrix:\")\n",
    "    print(pd.DataFrame(confmatrix, columns=entities, index=entities))\n",
    "\n",
    "    print(\"Precision and recall\")\n",
    "    print(results)\n",
    "\n",
    "    # end experiment\n",
    "    experiment.end()"
   ]
  },
  {
   "cell_type": "markdown",
   "id": "cb01101d",
   "metadata": {},
   "source": [
    "### Results analysis"
   ]
  },
  {
   "cell_type": "code",
   "execution_count": null,
   "id": "5f407b40",
   "metadata": {},
   "outputs": [],
   "source": [
    "sent = \"I am taiwanese but I live in Cambodia.\"\n",
    "# sent = input(\"Enter sentence: \")\n",
    "model.predict(InputSample(full_text=sent))"
   ]
  },
  {
   "cell_type": "markdown",
   "id": "b8c1e391",
   "metadata": {},
   "source": [
    "#### False positives"
   ]
  },
  {
   "cell_type": "markdown",
   "id": "5ce4d351",
   "metadata": {},
   "source": [
    "1. Most false positive tokens:"
   ]
  },
  {
   "cell_type": "code",
   "execution_count": null,
   "id": "6cd00bec",
   "metadata": {},
   "outputs": [],
   "source": [
    "ModelError.most_common_fp_tokens(errors=results.model_errors)"
   ]
  },
  {
   "cell_type": "code",
   "execution_count": null,
   "id": "82c5aca4",
   "metadata": {},
   "outputs": [],
   "source": [
    "fps_df = ModelError.get_fps_dataframe(errors=results.model_errors, entity=[\"NORP\"])\n",
    "fps_df[[\"full_text\", \"token\", \"prediction\"]]"
   ]
  },
  {
   "cell_type": "markdown",
   "id": "4b5879f3",
   "metadata": {},
   "source": [
    "2. False negative examples"
   ]
  },
  {
   "cell_type": "code",
   "execution_count": null,
   "id": "340e5509",
   "metadata": {},
   "outputs": [],
   "source": [
    "ModelError.most_common_fn_tokens(errors=results.model_errors, n=50, entity=[\"PERSON\"])"
   ]
  },
  {
   "cell_type": "markdown",
   "id": "1e2d693c",
   "metadata": {},
   "source": [
    "More FN analysis"
   ]
  },
  {
   "cell_type": "code",
   "execution_count": null,
   "id": "bf3c08ed",
   "metadata": {},
   "outputs": [],
   "source": [
    "fns_df = ModelError.get_fns_dataframe(errors=results.model_errors, entity=[\"GPE\"])"
   ]
  },
  {
   "cell_type": "code",
   "execution_count": null,
   "id": "8ad26e71",
   "metadata": {},
   "outputs": [],
   "source": [
    "fns_df[[\"full_text\", \"token\", \"annotation\", \"prediction\"]]"
   ]
  },
  {
   "cell_type": "code",
   "execution_count": null,
   "id": "7b481676",
   "metadata": {},
   "outputs": [],
   "source": [
    "print(\"All errors:\\n\")\n",
    "[print(error, \"\\n\") for error in results.model_errors]"
   ]
  },
  {
   "cell_type": "code",
   "execution_count": null,
   "id": "9399e426",
   "metadata": {},
   "outputs": [],
   "source": []
  }
 ],
 "metadata": {
  "kernelspec": {
   "display_name": "presidio",
   "language": "python",
   "name": "presidio"
  },
  "language_info": {
   "codemirror_mode": {
    "name": "ipython",
    "version": 3
   },
   "file_extension": ".py",
   "mimetype": "text/x-python",
   "name": "python",
   "nbconvert_exporter": "python",
   "pygments_lexer": "ipython3",
   "version": "3.8.12"
  }
 },
 "nbformat": 4,
 "nbformat_minor": 5
}